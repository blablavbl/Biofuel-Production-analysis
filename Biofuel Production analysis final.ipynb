{
 "cells": [
  {
   "cell_type": "code",
   "execution_count": 1,
   "metadata": {},
   "outputs": [],
   "source": [
    "import pandas as pd \n",
    "import numpy as np \n",
    "import matplotlib.pyplot as plt\n",
    "import seaborn as sns\n"
   ]
  },
  {
   "cell_type": "code",
   "execution_count": 2,
   "metadata": {},
   "outputs": [],
   "source": [
    "dfprod= pd.read_csv(r\"C:\\Users\\Federico\\Documents\\Progetti Jupyter\\FIle grezzi\\doe-biofuel-consumption-production\\Produzione.csv\")\n",
    "pd.set_option('display.max_rows', dfprod.shape[0]+1)"
   ]
  },
  {
   "cell_type": "code",
   "execution_count": 3,
   "metadata": {
    "scrolled": true
   },
   "outputs": [
    {
     "data": {
      "text/html": [
       "<div>\n",
       "<style scoped>\n",
       "    .dataframe tbody tr th:only-of-type {\n",
       "        vertical-align: middle;\n",
       "    }\n",
       "\n",
       "    .dataframe tbody tr th {\n",
       "        vertical-align: top;\n",
       "    }\n",
       "\n",
       "    .dataframe thead th {\n",
       "        text-align: right;\n",
       "    }\n",
       "</style>\n",
       "<table border=\"1\" class=\"dataframe\">\n",
       "  <thead>\n",
       "    <tr style=\"text-align: right;\">\n",
       "      <th></th>\n",
       "      <th>Unnamed: 0</th>\n",
       "      <th>2000</th>\n",
       "      <th>2001</th>\n",
       "      <th>2002</th>\n",
       "      <th>2003</th>\n",
       "      <th>2004</th>\n",
       "      <th>2005</th>\n",
       "      <th>2006</th>\n",
       "      <th>2007</th>\n",
       "      <th>2008</th>\n",
       "      <th>2009</th>\n",
       "      <th>2010</th>\n",
       "    </tr>\n",
       "  </thead>\n",
       "  <tbody>\n",
       "    <tr>\n",
       "      <th>0</th>\n",
       "      <td>North America</td>\n",
       "      <td>109.24</td>\n",
       "      <td>119.60946</td>\n",
       "      <td>144.29389</td>\n",
       "      <td>187.86691</td>\n",
       "      <td>227.29032</td>\n",
       "      <td>265.21215</td>\n",
       "      <td>340.15054</td>\n",
       "      <td>472.83005</td>\n",
       "      <td>666.47907</td>\n",
       "      <td>768.71809</td>\n",
       "      <td>914.4242</td>\n",
       "    </tr>\n",
       "    <tr>\n",
       "      <th>1</th>\n",
       "      <td>Bermuda</td>\n",
       "      <td>0</td>\n",
       "      <td>0</td>\n",
       "      <td>0</td>\n",
       "      <td>0</td>\n",
       "      <td>0</td>\n",
       "      <td>0</td>\n",
       "      <td>0</td>\n",
       "      <td>0</td>\n",
       "      <td>0</td>\n",
       "      <td>0</td>\n",
       "      <td>0</td>\n",
       "    </tr>\n",
       "    <tr>\n",
       "      <th>2</th>\n",
       "      <td>Canada</td>\n",
       "      <td>3.7</td>\n",
       "      <td>3.9</td>\n",
       "      <td>4</td>\n",
       "      <td>4</td>\n",
       "      <td>4</td>\n",
       "      <td>4.6</td>\n",
       "      <td>5.2</td>\n",
       "      <td>15.4</td>\n",
       "      <td>16.7</td>\n",
       "      <td>22.1</td>\n",
       "      <td>26.4</td>\n",
       "    </tr>\n",
       "    <tr>\n",
       "      <th>3</th>\n",
       "      <td>Greenland</td>\n",
       "      <td>0</td>\n",
       "      <td>0</td>\n",
       "      <td>0</td>\n",
       "      <td>0</td>\n",
       "      <td>0</td>\n",
       "      <td>0</td>\n",
       "      <td>0</td>\n",
       "      <td>0</td>\n",
       "      <td>0</td>\n",
       "      <td>0</td>\n",
       "      <td>0</td>\n",
       "    </tr>\n",
       "    <tr>\n",
       "      <th>4</th>\n",
       "      <td>Mexico</td>\n",
       "      <td>0</td>\n",
       "      <td>0</td>\n",
       "      <td>0</td>\n",
       "      <td>0</td>\n",
       "      <td>0</td>\n",
       "      <td>0</td>\n",
       "      <td>0</td>\n",
       "      <td>0.1</td>\n",
       "      <td>0.1</td>\n",
       "      <td>0.103</td>\n",
       "      <td>0.4</td>\n",
       "    </tr>\n",
       "    <tr>\n",
       "      <th>5</th>\n",
       "      <td>Saint Pierre and Miquelon</td>\n",
       "      <td>0</td>\n",
       "      <td>0</td>\n",
       "      <td>0</td>\n",
       "      <td>0</td>\n",
       "      <td>0</td>\n",
       "      <td>0</td>\n",
       "      <td>0</td>\n",
       "      <td>0</td>\n",
       "      <td>0</td>\n",
       "      <td>0</td>\n",
       "      <td>0</td>\n",
       "    </tr>\n",
       "    <tr>\n",
       "      <th>6</th>\n",
       "      <td>United States</td>\n",
       "      <td>105.54</td>\n",
       "      <td>115.70946</td>\n",
       "      <td>140.29389</td>\n",
       "      <td>183.86691</td>\n",
       "      <td>223.29032</td>\n",
       "      <td>260.61215</td>\n",
       "      <td>334.95054</td>\n",
       "      <td>457.33005</td>\n",
       "      <td>649.67907</td>\n",
       "      <td>746.51509</td>\n",
       "      <td>887.6242</td>\n",
       "    </tr>\n",
       "    <tr>\n",
       "      <th>7</th>\n",
       "      <td>Central &amp; South America</td>\n",
       "      <td>185.1267</td>\n",
       "      <td>198.80565</td>\n",
       "      <td>221.35167</td>\n",
       "      <td>254.77137</td>\n",
       "      <td>256.97708</td>\n",
       "      <td>285.22176</td>\n",
       "      <td>330.53949</td>\n",
       "      <td>425.88543</td>\n",
       "      <td>533.67376</td>\n",
       "      <td>533.48639</td>\n",
       "      <td>588.25312</td>\n",
       "    </tr>\n",
       "    <tr>\n",
       "      <th>8</th>\n",
       "      <td>Antarctica</td>\n",
       "      <td>0</td>\n",
       "      <td>0</td>\n",
       "      <td>0</td>\n",
       "      <td>0</td>\n",
       "      <td>0</td>\n",
       "      <td>0</td>\n",
       "      <td>0</td>\n",
       "      <td>0</td>\n",
       "      <td>0</td>\n",
       "      <td>0</td>\n",
       "      <td>0</td>\n",
       "    </tr>\n",
       "    <tr>\n",
       "      <th>9</th>\n",
       "      <td>Antigua and Barbuda</td>\n",
       "      <td>0</td>\n",
       "      <td>0</td>\n",
       "      <td>0</td>\n",
       "      <td>0</td>\n",
       "      <td>0</td>\n",
       "      <td>0</td>\n",
       "      <td>0</td>\n",
       "      <td>0</td>\n",
       "      <td>0</td>\n",
       "      <td>0</td>\n",
       "      <td>0</td>\n",
       "    </tr>\n",
       "    <tr>\n",
       "      <th>10</th>\n",
       "      <td>Argentina</td>\n",
       "      <td>0.1</td>\n",
       "      <td>0.2</td>\n",
       "      <td>0.2</td>\n",
       "      <td>0.2</td>\n",
       "      <td>0.2</td>\n",
       "      <td>0.2</td>\n",
       "      <td>0.7</td>\n",
       "      <td>3.9</td>\n",
       "      <td>14.1</td>\n",
       "      <td>23.5</td>\n",
       "      <td>38.1</td>\n",
       "    </tr>\n",
       "    <tr>\n",
       "      <th>11</th>\n",
       "      <td>Aruba</td>\n",
       "      <td>0</td>\n",
       "      <td>0</td>\n",
       "      <td>0</td>\n",
       "      <td>0</td>\n",
       "      <td>0</td>\n",
       "      <td>0</td>\n",
       "      <td>0</td>\n",
       "      <td>0</td>\n",
       "      <td>0</td>\n",
       "      <td>0</td>\n",
       "      <td>0</td>\n",
       "    </tr>\n",
       "    <tr>\n",
       "      <th>12</th>\n",
       "      <td>Bahamas, The</td>\n",
       "      <td>0</td>\n",
       "      <td>0</td>\n",
       "      <td>0</td>\n",
       "      <td>0</td>\n",
       "      <td>0</td>\n",
       "      <td>0</td>\n",
       "      <td>0</td>\n",
       "      <td>0</td>\n",
       "      <td>0</td>\n",
       "      <td>0</td>\n",
       "      <td>0</td>\n",
       "    </tr>\n",
       "    <tr>\n",
       "      <th>13</th>\n",
       "      <td>Barbados</td>\n",
       "      <td>0</td>\n",
       "      <td>0</td>\n",
       "      <td>0</td>\n",
       "      <td>0</td>\n",
       "      <td>0</td>\n",
       "      <td>0</td>\n",
       "      <td>0.0003</td>\n",
       "      <td>0.0003</td>\n",
       "      <td>0.001</td>\n",
       "      <td>0.001</td>\n",
       "      <td>0.001</td>\n",
       "    </tr>\n",
       "    <tr>\n",
       "      <th>14</th>\n",
       "      <td>Belize</td>\n",
       "      <td>0</td>\n",
       "      <td>0</td>\n",
       "      <td>0</td>\n",
       "      <td>0</td>\n",
       "      <td>0</td>\n",
       "      <td>0</td>\n",
       "      <td>0</td>\n",
       "      <td>0</td>\n",
       "      <td>0</td>\n",
       "      <td>0</td>\n",
       "      <td>0</td>\n",
       "    </tr>\n",
       "    <tr>\n",
       "      <th>15</th>\n",
       "      <td>Bolivia</td>\n",
       "      <td>0</td>\n",
       "      <td>0</td>\n",
       "      <td>0</td>\n",
       "      <td>0</td>\n",
       "      <td>0</td>\n",
       "      <td>0</td>\n",
       "      <td>0</td>\n",
       "      <td>0</td>\n",
       "      <td>0</td>\n",
       "      <td>0</td>\n",
       "      <td>0</td>\n",
       "    </tr>\n",
       "    <tr>\n",
       "      <th>16</th>\n",
       "      <td>Brazil</td>\n",
       "      <td>183.8867</td>\n",
       "      <td>197.58565</td>\n",
       "      <td>216.93167</td>\n",
       "      <td>249.35137</td>\n",
       "      <td>251.71708</td>\n",
       "      <td>276.41776</td>\n",
       "      <td>307.30919</td>\n",
       "      <td>395.67613</td>\n",
       "      <td>486.34876</td>\n",
       "      <td>477.52839</td>\n",
       "      <td>527.32212</td>\n",
       "    </tr>\n",
       "    <tr>\n",
       "      <th>17</th>\n",
       "      <td>Cayman Islands</td>\n",
       "      <td>0</td>\n",
       "      <td>0</td>\n",
       "      <td>0</td>\n",
       "      <td>0</td>\n",
       "      <td>0</td>\n",
       "      <td>0</td>\n",
       "      <td>0</td>\n",
       "      <td>0</td>\n",
       "      <td>0</td>\n",
       "      <td>0</td>\n",
       "      <td>0</td>\n",
       "    </tr>\n",
       "    <tr>\n",
       "      <th>18</th>\n",
       "      <td>Chile</td>\n",
       "      <td>0</td>\n",
       "      <td>0</td>\n",
       "      <td>0</td>\n",
       "      <td>0</td>\n",
       "      <td>0</td>\n",
       "      <td>0</td>\n",
       "      <td>0</td>\n",
       "      <td>0</td>\n",
       "      <td>0</td>\n",
       "      <td>0</td>\n",
       "      <td>0</td>\n",
       "    </tr>\n",
       "    <tr>\n",
       "      <th>19</th>\n",
       "      <td>Colombia</td>\n",
       "      <td>0</td>\n",
       "      <td>0</td>\n",
       "      <td>0</td>\n",
       "      <td>0</td>\n",
       "      <td>0</td>\n",
       "      <td>0.5</td>\n",
       "      <td>4.6</td>\n",
       "      <td>4.8</td>\n",
       "      <td>5.8</td>\n",
       "      <td>11.3</td>\n",
       "      <td>12</td>\n",
       "    </tr>\n",
       "  </tbody>\n",
       "</table>\n",
       "</div>"
      ],
      "text/plain": [
       "                   Unnamed: 0      2000       2001       2002       2003  \\\n",
       "0               North America    109.24  119.60946  144.29389  187.86691   \n",
       "1                     Bermuda         0          0          0          0   \n",
       "2                      Canada       3.7        3.9          4          4   \n",
       "3                   Greenland         0          0          0          0   \n",
       "4                      Mexico         0          0          0          0   \n",
       "5   Saint Pierre and Miquelon         0          0          0          0   \n",
       "6               United States    105.54  115.70946  140.29389  183.86691   \n",
       "7     Central & South America  185.1267  198.80565  221.35167  254.77137   \n",
       "8                  Antarctica         0          0          0          0   \n",
       "9         Antigua and Barbuda         0          0          0          0   \n",
       "10                  Argentina       0.1        0.2        0.2        0.2   \n",
       "11                      Aruba         0          0          0          0   \n",
       "12               Bahamas, The         0          0          0          0   \n",
       "13                   Barbados         0          0          0          0   \n",
       "14                     Belize         0          0          0          0   \n",
       "15                    Bolivia         0          0          0          0   \n",
       "16                     Brazil  183.8867  197.58565  216.93167  249.35137   \n",
       "17             Cayman Islands         0          0          0          0   \n",
       "18                      Chile         0          0          0          0   \n",
       "19                   Colombia         0          0          0          0   \n",
       "\n",
       "         2004       2005       2006       2007       2008       2009  \\\n",
       "0   227.29032  265.21215  340.15054  472.83005  666.47907  768.71809   \n",
       "1           0          0          0          0          0          0   \n",
       "2           4        4.6        5.2       15.4       16.7       22.1   \n",
       "3           0          0          0          0          0          0   \n",
       "4           0          0          0        0.1        0.1      0.103   \n",
       "5           0          0          0          0          0          0   \n",
       "6   223.29032  260.61215  334.95054  457.33005  649.67907  746.51509   \n",
       "7   256.97708  285.22176  330.53949  425.88543  533.67376  533.48639   \n",
       "8           0          0          0          0          0          0   \n",
       "9           0          0          0          0          0          0   \n",
       "10        0.2        0.2        0.7        3.9       14.1       23.5   \n",
       "11          0          0          0          0          0          0   \n",
       "12          0          0          0          0          0          0   \n",
       "13          0          0     0.0003     0.0003      0.001      0.001   \n",
       "14          0          0          0          0          0          0   \n",
       "15          0          0          0          0          0          0   \n",
       "16  251.71708  276.41776  307.30919  395.67613  486.34876  477.52839   \n",
       "17          0          0          0          0          0          0   \n",
       "18          0          0          0          0          0          0   \n",
       "19          0        0.5        4.6        4.8        5.8       11.3   \n",
       "\n",
       "         2010  \n",
       "0    914.4242  \n",
       "1           0  \n",
       "2        26.4  \n",
       "3           0  \n",
       "4         0.4  \n",
       "5           0  \n",
       "6    887.6242  \n",
       "7   588.25312  \n",
       "8           0  \n",
       "9           0  \n",
       "10       38.1  \n",
       "11          0  \n",
       "12          0  \n",
       "13      0.001  \n",
       "14          0  \n",
       "15          0  \n",
       "16  527.32212  \n",
       "17          0  \n",
       "18          0  \n",
       "19         12  "
      ]
     },
     "execution_count": 3,
     "metadata": {},
     "output_type": "execute_result"
    }
   ],
   "source": [
    "#Let's take a first look at the data\n",
    "dfprod.head(20)"
   ]
  },
  {
   "cell_type": "code",
   "execution_count": 4,
   "metadata": {},
   "outputs": [],
   "source": [
    "#From this we can see there a lot of countries with no production at all, these would just end up cluttering the final graphs\n",
    "#we want to obtain, so it is better to delete them."
   ]
  },
  {
   "cell_type": "code",
   "execution_count": 5,
   "metadata": {},
   "outputs": [],
   "source": [
    "#Our first step in the process of cleaning the data is to properly rename the first column:\n",
    "dfprod=dfprod.rename(columns={\"Unnamed: 0\" : \"Country\"})"
   ]
  },
  {
   "cell_type": "code",
   "execution_count": 6,
   "metadata": {},
   "outputs": [],
   "source": [
    "#We now set said column as the index so that we can work only on the columns specified by every year in the past decade.\n",
    "dfprod.set_index(\"Country\", inplace=True)"
   ]
  },
  {
   "cell_type": "code",
   "execution_count": 7,
   "metadata": {},
   "outputs": [],
   "source": [
    "#The values inside the dataframe are stored as strings, but we want to convert them to numeric values with this simple line of code:\n",
    "dfprod= dfprod.apply(pd.to_numeric, errors='coerce')\n",
    "\n",
    "#In my exploratory data analysis I discovered that there were also some characters like scores and underscores,\n",
    "# the errors=\"coerce\" allows us to ignore said characters and transform them all to numeric 0s."
   ]
  },
  {
   "cell_type": "code",
   "execution_count": 8,
   "metadata": {},
   "outputs": [],
   "source": [
    "#We now replace every 0 obtained with a Nan value and proceed to drop every line of the dataframe containing at least one.\n",
    "dfprod.replace(0, np.nan, inplace=True)"
   ]
  },
  {
   "cell_type": "code",
   "execution_count": 9,
   "metadata": {},
   "outputs": [],
   "source": [
    "dfprod.dropna(inplace=True)"
   ]
  },
  {
   "cell_type": "code",
   "execution_count": 10,
   "metadata": {},
   "outputs": [],
   "source": [
    "#From the dfprod.head(20) line we can see that the continents are also included in the dataset, it's better then to create a \n",
    "# separate dataframe in which we can store them and leave the single countries in the original one (dfprod).\n",
    "dfprodcontinenti=dfprod.loc[[\"North America\",\"Europe\",\"World\", \"Central & South America\",\"Asia & Oceania\", \"Africa\"]]"
   ]
  },
  {
   "cell_type": "code",
   "execution_count": 11,
   "metadata": {},
   "outputs": [],
   "source": [
    "dfprod.drop([\"North America\",\"Europe\",\"World\", \"Central & South America\",\"Asia & Oceania\", \"Africa\"],inplace=True)"
   ]
  },
  {
   "cell_type": "code",
   "execution_count": 12,
   "metadata": {},
   "outputs": [],
   "source": [
    "dfprod.index.name = None"
   ]
  },
  {
   "cell_type": "code",
   "execution_count": 13,
   "metadata": {},
   "outputs": [],
   "source": [
    "#To allow the construction of a dataframe with all the years grouped in a single column, and thus an easier way to plot the values\n",
    "#using seaborn, we can simply use the transpose method which allows us to switch the index of the dataframe.\n",
    "dfprod=dfprod.T"
   ]
  },
  {
   "cell_type": "code",
   "execution_count": 14,
   "metadata": {
    "scrolled": false
   },
   "outputs": [
    {
     "data": {
      "text/html": [
       "<div>\n",
       "<style scoped>\n",
       "    .dataframe tbody tr th:only-of-type {\n",
       "        vertical-align: middle;\n",
       "    }\n",
       "\n",
       "    .dataframe tbody tr th {\n",
       "        vertical-align: top;\n",
       "    }\n",
       "\n",
       "    .dataframe thead th {\n",
       "        text-align: right;\n",
       "    }\n",
       "</style>\n",
       "<table border=\"1\" class=\"dataframe\">\n",
       "  <thead>\n",
       "    <tr style=\"text-align: right;\">\n",
       "      <th></th>\n",
       "      <th>Canada</th>\n",
       "      <th>United States</th>\n",
       "      <th>Argentina</th>\n",
       "      <th>Brazil</th>\n",
       "      <th>Cuba</th>\n",
       "      <th>Paraguay</th>\n",
       "      <th>Austria</th>\n",
       "      <th>Czech Republic</th>\n",
       "      <th>France</th>\n",
       "      <th>Germany</th>\n",
       "      <th>Italy</th>\n",
       "      <th>Spain</th>\n",
       "      <th>Malawi</th>\n",
       "      <th>India</th>\n",
       "    </tr>\n",
       "  </thead>\n",
       "  <tbody>\n",
       "    <tr>\n",
       "      <th>2000</th>\n",
       "      <td>3.7</td>\n",
       "      <td>105.54000</td>\n",
       "      <td>0.1</td>\n",
       "      <td>183.88670</td>\n",
       "      <td>1.1</td>\n",
       "      <td>0.04</td>\n",
       "      <td>0.4</td>\n",
       "      <td>1.30</td>\n",
       "      <td>7.9</td>\n",
       "      <td>4.3</td>\n",
       "      <td>1.6</td>\n",
       "      <td>1.6</td>\n",
       "      <td>0.2</td>\n",
       "      <td>2.9</td>\n",
       "    </tr>\n",
       "    <tr>\n",
       "      <th>2001</th>\n",
       "      <td>3.9</td>\n",
       "      <td>115.70946</td>\n",
       "      <td>0.2</td>\n",
       "      <td>197.58565</td>\n",
       "      <td>1.0</td>\n",
       "      <td>0.02</td>\n",
       "      <td>0.4</td>\n",
       "      <td>1.40</td>\n",
       "      <td>7.9</td>\n",
       "      <td>5.4</td>\n",
       "      <td>2.8</td>\n",
       "      <td>1.6</td>\n",
       "      <td>0.2</td>\n",
       "      <td>3.0</td>\n",
       "    </tr>\n",
       "    <tr>\n",
       "      <th>2002</th>\n",
       "      <td>4.0</td>\n",
       "      <td>140.29389</td>\n",
       "      <td>0.2</td>\n",
       "      <td>216.93167</td>\n",
       "      <td>1.0</td>\n",
       "      <td>0.02</td>\n",
       "      <td>0.5</td>\n",
       "      <td>2.00</td>\n",
       "      <td>8.4</td>\n",
       "      <td>8.8</td>\n",
       "      <td>4.1</td>\n",
       "      <td>3.5</td>\n",
       "      <td>0.2</td>\n",
       "      <td>3.2</td>\n",
       "    </tr>\n",
       "    <tr>\n",
       "      <th>2003</th>\n",
       "      <td>4.0</td>\n",
       "      <td>183.86691</td>\n",
       "      <td>0.2</td>\n",
       "      <td>249.35137</td>\n",
       "      <td>1.0</td>\n",
       "      <td>0.02</td>\n",
       "      <td>0.6</td>\n",
       "      <td>2.23</td>\n",
       "      <td>9.0</td>\n",
       "      <td>14.0</td>\n",
       "      <td>5.3</td>\n",
       "      <td>5.0</td>\n",
       "      <td>0.2</td>\n",
       "      <td>3.3</td>\n",
       "    </tr>\n",
       "    <tr>\n",
       "      <th>2004</th>\n",
       "      <td>4.0</td>\n",
       "      <td>223.29032</td>\n",
       "      <td>0.2</td>\n",
       "      <td>251.71708</td>\n",
       "      <td>1.0</td>\n",
       "      <td>0.10</td>\n",
       "      <td>1.1</td>\n",
       "      <td>1.70</td>\n",
       "      <td>9.4</td>\n",
       "      <td>20.4</td>\n",
       "      <td>6.2</td>\n",
       "      <td>6.2</td>\n",
       "      <td>0.2</td>\n",
       "      <td>3.5</td>\n",
       "    </tr>\n",
       "    <tr>\n",
       "      <th>2005</th>\n",
       "      <td>4.6</td>\n",
       "      <td>260.61215</td>\n",
       "      <td>0.2</td>\n",
       "      <td>276.41776</td>\n",
       "      <td>0.8</td>\n",
       "      <td>0.60</td>\n",
       "      <td>1.6</td>\n",
       "      <td>2.50</td>\n",
       "      <td>10.9</td>\n",
       "      <td>35.8</td>\n",
       "      <td>7.8</td>\n",
       "      <td>8.2</td>\n",
       "      <td>0.2</td>\n",
       "      <td>3.9</td>\n",
       "    </tr>\n",
       "    <tr>\n",
       "      <th>2006</th>\n",
       "      <td>5.2</td>\n",
       "      <td>334.95054</td>\n",
       "      <td>0.7</td>\n",
       "      <td>307.30919</td>\n",
       "      <td>0.5</td>\n",
       "      <td>0.80</td>\n",
       "      <td>2.4</td>\n",
       "      <td>2.50</td>\n",
       "      <td>16.6</td>\n",
       "      <td>59.4</td>\n",
       "      <td>13.8</td>\n",
       "      <td>8.2</td>\n",
       "      <td>0.2</td>\n",
       "      <td>4.5</td>\n",
       "    </tr>\n",
       "    <tr>\n",
       "      <th>2007</th>\n",
       "      <td>15.4</td>\n",
       "      <td>457.33005</td>\n",
       "      <td>3.9</td>\n",
       "      <td>395.67613</td>\n",
       "      <td>0.4</td>\n",
       "      <td>1.10</td>\n",
       "      <td>5.5</td>\n",
       "      <td>2.20</td>\n",
       "      <td>28.0</td>\n",
       "      <td>63.8</td>\n",
       "      <td>10.2</td>\n",
       "      <td>10.5</td>\n",
       "      <td>0.2</td>\n",
       "      <td>4.7</td>\n",
       "    </tr>\n",
       "    <tr>\n",
       "      <th>2008</th>\n",
       "      <td>16.7</td>\n",
       "      <td>649.67907</td>\n",
       "      <td>14.1</td>\n",
       "      <td>486.34876</td>\n",
       "      <td>0.3</td>\n",
       "      <td>1.70</td>\n",
       "      <td>5.7</td>\n",
       "      <td>2.80</td>\n",
       "      <td>50.4</td>\n",
       "      <td>65.0</td>\n",
       "      <td>14.1</td>\n",
       "      <td>10.3</td>\n",
       "      <td>0.2</td>\n",
       "      <td>5.2</td>\n",
       "    </tr>\n",
       "    <tr>\n",
       "      <th>2009</th>\n",
       "      <td>22.1</td>\n",
       "      <td>746.51509</td>\n",
       "      <td>23.5</td>\n",
       "      <td>477.52839</td>\n",
       "      <td>0.3</td>\n",
       "      <td>2.20</td>\n",
       "      <td>8.1</td>\n",
       "      <td>5.00</td>\n",
       "      <td>58.0</td>\n",
       "      <td>58.0</td>\n",
       "      <td>16.6</td>\n",
       "      <td>22.0</td>\n",
       "      <td>0.2</td>\n",
       "      <td>7.0</td>\n",
       "    </tr>\n",
       "    <tr>\n",
       "      <th>2010</th>\n",
       "      <td>26.4</td>\n",
       "      <td>887.62420</td>\n",
       "      <td>38.1</td>\n",
       "      <td>527.32212</td>\n",
       "      <td>0.3</td>\n",
       "      <td>2.30</td>\n",
       "      <td>7.7</td>\n",
       "      <td>6.00</td>\n",
       "      <td>55.0</td>\n",
       "      <td>62.0</td>\n",
       "      <td>16.5</td>\n",
       "      <td>24.0</td>\n",
       "      <td>0.2</td>\n",
       "      <td>7.0</td>\n",
       "    </tr>\n",
       "  </tbody>\n",
       "</table>\n",
       "</div>"
      ],
      "text/plain": [
       "      Canada  United States  Argentina     Brazil  Cuba  Paraguay  Austria  \\\n",
       "2000     3.7      105.54000        0.1  183.88670   1.1      0.04      0.4   \n",
       "2001     3.9      115.70946        0.2  197.58565   1.0      0.02      0.4   \n",
       "2002     4.0      140.29389        0.2  216.93167   1.0      0.02      0.5   \n",
       "2003     4.0      183.86691        0.2  249.35137   1.0      0.02      0.6   \n",
       "2004     4.0      223.29032        0.2  251.71708   1.0      0.10      1.1   \n",
       "2005     4.6      260.61215        0.2  276.41776   0.8      0.60      1.6   \n",
       "2006     5.2      334.95054        0.7  307.30919   0.5      0.80      2.4   \n",
       "2007    15.4      457.33005        3.9  395.67613   0.4      1.10      5.5   \n",
       "2008    16.7      649.67907       14.1  486.34876   0.3      1.70      5.7   \n",
       "2009    22.1      746.51509       23.5  477.52839   0.3      2.20      8.1   \n",
       "2010    26.4      887.62420       38.1  527.32212   0.3      2.30      7.7   \n",
       "\n",
       "      Czech Republic  France  Germany  Italy  Spain  Malawi  India  \n",
       "2000            1.30     7.9      4.3    1.6    1.6     0.2    2.9  \n",
       "2001            1.40     7.9      5.4    2.8    1.6     0.2    3.0  \n",
       "2002            2.00     8.4      8.8    4.1    3.5     0.2    3.2  \n",
       "2003            2.23     9.0     14.0    5.3    5.0     0.2    3.3  \n",
       "2004            1.70     9.4     20.4    6.2    6.2     0.2    3.5  \n",
       "2005            2.50    10.9     35.8    7.8    8.2     0.2    3.9  \n",
       "2006            2.50    16.6     59.4   13.8    8.2     0.2    4.5  \n",
       "2007            2.20    28.0     63.8   10.2   10.5     0.2    4.7  \n",
       "2008            2.80    50.4     65.0   14.1   10.3     0.2    5.2  \n",
       "2009            5.00    58.0     58.0   16.6   22.0     0.2    7.0  \n",
       "2010            6.00    55.0     62.0   16.5   24.0     0.2    7.0  "
      ]
     },
     "execution_count": 14,
     "metadata": {},
     "output_type": "execute_result"
    }
   ],
   "source": [
    "dfprod"
   ]
  },
  {
   "cell_type": "code",
   "execution_count": 15,
   "metadata": {},
   "outputs": [],
   "source": [
    "# We now remove the new index and we are left with a new column containing all the years.\n",
    "dfprod.reset_index(inplace=True)\n",
    "dfprod=dfprod.rename(columns={\"index\":\"Year\"})"
   ]
  },
  {
   "cell_type": "code",
   "execution_count": 16,
   "metadata": {},
   "outputs": [],
   "source": [
    "#Now, we aim to reshape the dataframe so that we also have all the different countries and their respective production value for \n",
    "#a certain year in a single column.\n",
    "#In short, we now want to transform our dataframe from a wide shape to a long one, the melt method is exactly what we need for this.\n",
    "dfprod= dfprod.melt(id_vars=\"Year\", var_name=\"Country\", value_name=\"Tonnes\")"
   ]
  },
  {
   "cell_type": "code",
   "execution_count": 17,
   "metadata": {
    "scrolled": true
   },
   "outputs": [
    {
     "data": {
      "text/html": [
       "<div>\n",
       "<style scoped>\n",
       "    .dataframe tbody tr th:only-of-type {\n",
       "        vertical-align: middle;\n",
       "    }\n",
       "\n",
       "    .dataframe tbody tr th {\n",
       "        vertical-align: top;\n",
       "    }\n",
       "\n",
       "    .dataframe thead th {\n",
       "        text-align: right;\n",
       "    }\n",
       "</style>\n",
       "<table border=\"1\" class=\"dataframe\">\n",
       "  <thead>\n",
       "    <tr style=\"text-align: right;\">\n",
       "      <th></th>\n",
       "      <th>Year</th>\n",
       "      <th>Country</th>\n",
       "      <th>Tonnes</th>\n",
       "    </tr>\n",
       "  </thead>\n",
       "  <tbody>\n",
       "    <tr>\n",
       "      <th>0</th>\n",
       "      <td>2000</td>\n",
       "      <td>Canada</td>\n",
       "      <td>3.7</td>\n",
       "    </tr>\n",
       "    <tr>\n",
       "      <th>1</th>\n",
       "      <td>2001</td>\n",
       "      <td>Canada</td>\n",
       "      <td>3.9</td>\n",
       "    </tr>\n",
       "    <tr>\n",
       "      <th>2</th>\n",
       "      <td>2002</td>\n",
       "      <td>Canada</td>\n",
       "      <td>4.0</td>\n",
       "    </tr>\n",
       "    <tr>\n",
       "      <th>3</th>\n",
       "      <td>2003</td>\n",
       "      <td>Canada</td>\n",
       "      <td>4.0</td>\n",
       "    </tr>\n",
       "    <tr>\n",
       "      <th>4</th>\n",
       "      <td>2004</td>\n",
       "      <td>Canada</td>\n",
       "      <td>4.0</td>\n",
       "    </tr>\n",
       "  </tbody>\n",
       "</table>\n",
       "</div>"
      ],
      "text/plain": [
       "   Year Country  Tonnes\n",
       "0  2000  Canada     3.7\n",
       "1  2001  Canada     3.9\n",
       "2  2002  Canada     4.0\n",
       "3  2003  Canada     4.0\n",
       "4  2004  Canada     4.0"
      ]
     },
     "execution_count": 17,
     "metadata": {},
     "output_type": "execute_result"
    }
   ],
   "source": [
    "dfprod.head()"
   ]
  },
  {
   "cell_type": "code",
   "execution_count": 18,
   "metadata": {},
   "outputs": [],
   "source": [
    "#We now repeat the same operations for the dfprodcontinenti dataframe we created earlier which store the production of the different continents."
   ]
  },
  {
   "cell_type": "code",
   "execution_count": 19,
   "metadata": {},
   "outputs": [],
   "source": [
    "dfprodcontinenti.index.name = None"
   ]
  },
  {
   "cell_type": "code",
   "execution_count": 20,
   "metadata": {},
   "outputs": [],
   "source": [
    "dfprodcontinenti=dfprodcontinenti.T"
   ]
  },
  {
   "cell_type": "code",
   "execution_count": 21,
   "metadata": {},
   "outputs": [],
   "source": [
    "dfprodcontinenti.reset_index(inplace=True)"
   ]
  },
  {
   "cell_type": "code",
   "execution_count": 22,
   "metadata": {},
   "outputs": [],
   "source": [
    "dfprodcontinenti[\"Year\"]= dfprodcontinenti[\"index\"]"
   ]
  },
  {
   "cell_type": "code",
   "execution_count": 23,
   "metadata": {},
   "outputs": [],
   "source": [
    "dfprodcontinenti.drop(\"index\", axis=1, inplace=True)"
   ]
  },
  {
   "cell_type": "code",
   "execution_count": 24,
   "metadata": {},
   "outputs": [],
   "source": [
    "dfprodcontinenti=dfprodcontinenti.melt(id_vars=\"Year\", var_name=\"Continent\", value_name=\"Tonnes\")"
   ]
  },
  {
   "cell_type": "code",
   "execution_count": 25,
   "metadata": {},
   "outputs": [],
   "source": [
    "#Let's now create 2 lists, each containing either the unique countries or continents which will allow us to visualize the total\n",
    "#production in the analysed decade."
   ]
  },
  {
   "cell_type": "code",
   "execution_count": 26,
   "metadata": {},
   "outputs": [],
   "source": [
    "nazioni= list(dfprod[\"Country\"].unique())"
   ]
  },
  {
   "cell_type": "code",
   "execution_count": 27,
   "metadata": {},
   "outputs": [],
   "source": [
    "continenti= list(dfprodcontinenti[\"Continent\"].unique())"
   ]
  },
  {
   "cell_type": "code",
   "execution_count": 28,
   "metadata": {},
   "outputs": [],
   "source": [
    "#Creating the dataframes which will use the lists\n",
    "dfprodtotale= pd.DataFrame()\n",
    "dfprodtotalecontinenti= pd.DataFrame()"
   ]
  },
  {
   "cell_type": "code",
   "execution_count": 29,
   "metadata": {},
   "outputs": [],
   "source": [
    "#Get the total production of a country over the decade\n",
    "produzione=[]\n",
    "for nazione in nazioni:\n",
    "    produzione.append(dfprod.loc[dfprod[\"Country\"]==nazione][\"Tonnes\"].sum())"
   ]
  },
  {
   "cell_type": "code",
   "execution_count": 30,
   "metadata": {},
   "outputs": [],
   "source": [
    "#These lines allow us to create the dataframe which will store the total production of each individual country\n",
    "dfprodtotale[\"Country\"]= dfprod[\"Country\"].unique()\n",
    "dfprodtotale[\"Tonnes\"]=produzione\n",
    "dfprodtotale=dfprodtotale.sort_values(\"Tonnes\")"
   ]
  },
  {
   "cell_type": "code",
   "execution_count": 31,
   "metadata": {},
   "outputs": [],
   "source": [
    "#Get the total production of a continent over the decade\n",
    "produzione_continenti=[]\n",
    "for continente in continenti:\n",
    "    produzione_continenti.append(dfprodcontinenti.loc[dfprodcontinenti[\"Continent\"]==continente][\"Tonnes\"].sum())"
   ]
  },
  {
   "cell_type": "code",
   "execution_count": 32,
   "metadata": {},
   "outputs": [],
   "source": [
    "#These lines allow us to create the dataframe which will store the total production of each individual continent\n",
    "dfprodtotalecontinenti[\"Continent\"]= dfprodcontinenti[\"Continent\"].unique()\n",
    "dfprodtotalecontinenti[\"Tonnes\"]=produzione_continenti\n",
    "dfprodtotalecontinenti=dfprodtotalecontinenti.sort_values(\"Tonnes\")"
   ]
  },
  {
   "cell_type": "code",
   "execution_count": 33,
   "metadata": {},
   "outputs": [
    {
     "data": {
      "text/html": [
       "<div>\n",
       "<style scoped>\n",
       "    .dataframe tbody tr th:only-of-type {\n",
       "        vertical-align: middle;\n",
       "    }\n",
       "\n",
       "    .dataframe tbody tr th {\n",
       "        vertical-align: top;\n",
       "    }\n",
       "\n",
       "    .dataframe thead th {\n",
       "        text-align: right;\n",
       "    }\n",
       "</style>\n",
       "<table border=\"1\" class=\"dataframe\">\n",
       "  <thead>\n",
       "    <tr style=\"text-align: right;\">\n",
       "      <th></th>\n",
       "      <th>Year</th>\n",
       "      <th>Country</th>\n",
       "      <th>Tonnes</th>\n",
       "    </tr>\n",
       "  </thead>\n",
       "  <tbody>\n",
       "    <tr>\n",
       "      <th>0</th>\n",
       "      <td>2000</td>\n",
       "      <td>Canada</td>\n",
       "      <td>3.7</td>\n",
       "    </tr>\n",
       "    <tr>\n",
       "      <th>1</th>\n",
       "      <td>2001</td>\n",
       "      <td>Canada</td>\n",
       "      <td>3.9</td>\n",
       "    </tr>\n",
       "    <tr>\n",
       "      <th>2</th>\n",
       "      <td>2002</td>\n",
       "      <td>Canada</td>\n",
       "      <td>4.0</td>\n",
       "    </tr>\n",
       "    <tr>\n",
       "      <th>3</th>\n",
       "      <td>2003</td>\n",
       "      <td>Canada</td>\n",
       "      <td>4.0</td>\n",
       "    </tr>\n",
       "    <tr>\n",
       "      <th>4</th>\n",
       "      <td>2004</td>\n",
       "      <td>Canada</td>\n",
       "      <td>4.0</td>\n",
       "    </tr>\n",
       "  </tbody>\n",
       "</table>\n",
       "</div>"
      ],
      "text/plain": [
       "   Year Country  Tonnes\n",
       "0  2000  Canada     3.7\n",
       "1  2001  Canada     3.9\n",
       "2  2002  Canada     4.0\n",
       "3  2003  Canada     4.0\n",
       "4  2004  Canada     4.0"
      ]
     },
     "execution_count": 33,
     "metadata": {},
     "output_type": "execute_result"
    }
   ],
   "source": [
    "dfprod.head()"
   ]
  },
  {
   "cell_type": "code",
   "execution_count": 34,
   "metadata": {},
   "outputs": [
    {
     "data": {
      "text/html": [
       "<div>\n",
       "<style scoped>\n",
       "    .dataframe tbody tr th:only-of-type {\n",
       "        vertical-align: middle;\n",
       "    }\n",
       "\n",
       "    .dataframe tbody tr th {\n",
       "        vertical-align: top;\n",
       "    }\n",
       "\n",
       "    .dataframe thead th {\n",
       "        text-align: right;\n",
       "    }\n",
       "</style>\n",
       "<table border=\"1\" class=\"dataframe\">\n",
       "  <thead>\n",
       "    <tr style=\"text-align: right;\">\n",
       "      <th></th>\n",
       "      <th>Year</th>\n",
       "      <th>Continent</th>\n",
       "      <th>Tonnes</th>\n",
       "    </tr>\n",
       "  </thead>\n",
       "  <tbody>\n",
       "    <tr>\n",
       "      <th>0</th>\n",
       "      <td>2000</td>\n",
       "      <td>North America</td>\n",
       "      <td>109.24000</td>\n",
       "    </tr>\n",
       "    <tr>\n",
       "      <th>1</th>\n",
       "      <td>2001</td>\n",
       "      <td>North America</td>\n",
       "      <td>119.60946</td>\n",
       "    </tr>\n",
       "    <tr>\n",
       "      <th>2</th>\n",
       "      <td>2002</td>\n",
       "      <td>North America</td>\n",
       "      <td>144.29389</td>\n",
       "    </tr>\n",
       "    <tr>\n",
       "      <th>3</th>\n",
       "      <td>2003</td>\n",
       "      <td>North America</td>\n",
       "      <td>187.86691</td>\n",
       "    </tr>\n",
       "    <tr>\n",
       "      <th>4</th>\n",
       "      <td>2004</td>\n",
       "      <td>North America</td>\n",
       "      <td>227.29032</td>\n",
       "    </tr>\n",
       "  </tbody>\n",
       "</table>\n",
       "</div>"
      ],
      "text/plain": [
       "   Year      Continent     Tonnes\n",
       "0  2000  North America  109.24000\n",
       "1  2001  North America  119.60946\n",
       "2  2002  North America  144.29389\n",
       "3  2003  North America  187.86691\n",
       "4  2004  North America  227.29032"
      ]
     },
     "execution_count": 34,
     "metadata": {},
     "output_type": "execute_result"
    }
   ],
   "source": [
    "dfprodcontinenti.head()"
   ]
  },
  {
   "cell_type": "code",
   "execution_count": 35,
   "metadata": {},
   "outputs": [
    {
     "data": {
      "text/html": [
       "<div>\n",
       "<style scoped>\n",
       "    .dataframe tbody tr th:only-of-type {\n",
       "        vertical-align: middle;\n",
       "    }\n",
       "\n",
       "    .dataframe tbody tr th {\n",
       "        vertical-align: top;\n",
       "    }\n",
       "\n",
       "    .dataframe thead th {\n",
       "        text-align: right;\n",
       "    }\n",
       "</style>\n",
       "<table border=\"1\" class=\"dataframe\">\n",
       "  <thead>\n",
       "    <tr style=\"text-align: right;\">\n",
       "      <th></th>\n",
       "      <th>Country</th>\n",
       "      <th>Tonnes</th>\n",
       "    </tr>\n",
       "  </thead>\n",
       "  <tbody>\n",
       "    <tr>\n",
       "      <th>12</th>\n",
       "      <td>Malawi</td>\n",
       "      <td>2.20</td>\n",
       "    </tr>\n",
       "    <tr>\n",
       "      <th>4</th>\n",
       "      <td>Cuba</td>\n",
       "      <td>7.70</td>\n",
       "    </tr>\n",
       "    <tr>\n",
       "      <th>5</th>\n",
       "      <td>Paraguay</td>\n",
       "      <td>8.90</td>\n",
       "    </tr>\n",
       "    <tr>\n",
       "      <th>7</th>\n",
       "      <td>Czech Republic</td>\n",
       "      <td>29.63</td>\n",
       "    </tr>\n",
       "    <tr>\n",
       "      <th>6</th>\n",
       "      <td>Austria</td>\n",
       "      <td>34.00</td>\n",
       "    </tr>\n",
       "  </tbody>\n",
       "</table>\n",
       "</div>"
      ],
      "text/plain": [
       "           Country  Tonnes\n",
       "12          Malawi    2.20\n",
       "4             Cuba    7.70\n",
       "5         Paraguay    8.90\n",
       "7   Czech Republic   29.63\n",
       "6          Austria   34.00"
      ]
     },
     "execution_count": 35,
     "metadata": {},
     "output_type": "execute_result"
    }
   ],
   "source": [
    "dfprodtotale.head()"
   ]
  },
  {
   "cell_type": "code",
   "execution_count": 36,
   "metadata": {},
   "outputs": [
    {
     "data": {
      "text/html": [
       "<div>\n",
       "<style scoped>\n",
       "    .dataframe tbody tr th:only-of-type {\n",
       "        vertical-align: middle;\n",
       "    }\n",
       "\n",
       "    .dataframe tbody tr th {\n",
       "        vertical-align: top;\n",
       "    }\n",
       "\n",
       "    .dataframe thead th {\n",
       "        text-align: right;\n",
       "    }\n",
       "</style>\n",
       "<table border=\"1\" class=\"dataframe\">\n",
       "  <thead>\n",
       "    <tr style=\"text-align: right;\">\n",
       "      <th></th>\n",
       "      <th>Continent</th>\n",
       "      <th>Tonnes</th>\n",
       "    </tr>\n",
       "  </thead>\n",
       "  <tbody>\n",
       "    <tr>\n",
       "      <th>5</th>\n",
       "      <td>Africa</td>\n",
       "      <td>3.54500</td>\n",
       "    </tr>\n",
       "    <tr>\n",
       "      <th>4</th>\n",
       "      <td>Asia &amp; Oceania</td>\n",
       "      <td>443.55310</td>\n",
       "    </tr>\n",
       "    <tr>\n",
       "      <th>1</th>\n",
       "      <td>Europe</td>\n",
       "      <td>1186.55100</td>\n",
       "    </tr>\n",
       "    <tr>\n",
       "      <th>3</th>\n",
       "      <td>Central &amp; South America</td>\n",
       "      <td>3814.09242</td>\n",
       "    </tr>\n",
       "    <tr>\n",
       "      <th>0</th>\n",
       "      <td>North America</td>\n",
       "      <td>4216.11468</td>\n",
       "    </tr>\n",
       "  </tbody>\n",
       "</table>\n",
       "</div>"
      ],
      "text/plain": [
       "                 Continent      Tonnes\n",
       "5                   Africa     3.54500\n",
       "4           Asia & Oceania   443.55310\n",
       "1                   Europe  1186.55100\n",
       "3  Central & South America  3814.09242\n",
       "0            North America  4216.11468"
      ]
     },
     "execution_count": 36,
     "metadata": {},
     "output_type": "execute_result"
    }
   ],
   "source": [
    "dfprodtotalecontinenti.head()"
   ]
  },
  {
   "cell_type": "code",
   "execution_count": 37,
   "metadata": {
    "scrolled": false
   },
   "outputs": [
    {
     "data": {
      "image/png": "[encoded data removed]",
      "text/plain": [
       "<Figure size 864x576 with 1 Axes>"
      ]
     },
     "metadata": {
      "needs_background": "light"
     },
     "output_type": "display_data"
    }
   ],
   "source": [
    "\n",
    "plt.figure(figsize=(12,8))\n",
    "plt.tight_layout(True)\n",
    "ax1=sns.lineplot(data=dfprod, x= \"Year\", y= \"Tonnes\", hue= \"Country\",marker=\"o\")\n"
   ]
  },
  {
   "cell_type": "code",
   "execution_count": 38,
   "metadata": {},
   "outputs": [
    {
     "data": {
      "text/plain": [
       "[Text(0, 0, 'Canada'),\n",
       " Text(0, 0, 'United States'),\n",
       " Text(0, 0, 'Argentina'),\n",
       " Text(0, 0, 'Brazil'),\n",
       " Text(0, 0, 'Cuba'),\n",
       " Text(0, 0, 'Paraguay'),\n",
       " Text(0, 0, 'Austria'),\n",
       " Text(0, 0, 'Czech Republic'),\n",
       " Text(0, 0, 'France'),\n",
       " Text(0, 0, 'Germany'),\n",
       " Text(0, 0, 'Italy'),\n",
       " Text(0, 0, 'Spain'),\n",
       " Text(0, 0, 'Malawi'),\n",
       " Text(0, 0, 'India')]"
      ]
     },
     "execution_count": 38,
     "metadata": {},
     "output_type": "execute_result"
    },
    {
     "data": {
      "image/png": "[encoded data removed]",
      "text/plain": [
       "<Figure size 864x576 with 1 Axes>"
      ]
     },
     "metadata": {
      "needs_background": "light"
     },
     "output_type": "display_data"
    }
   ],
   "source": [
    "plt.figure(figsize=(12,8))\n",
    "plt.tight_layout(True)\n",
    "ax2= sns.boxplot(data=dfprod, x= \"Country\", y= \"Tonnes\")\n",
    "ax2.set_xticklabels(ax2.get_xticklabels(), rotation=90, ha=\"right\")\n"
   ]
  },
  {
   "cell_type": "code",
   "execution_count": 39,
   "metadata": {
    "scrolled": false
   },
   "outputs": [
    {
     "data": {
      "image/png": "[encoded data removed]",
      "text/plain": [
       "<Figure size 864x576 with 1 Axes>"
      ]
     },
     "metadata": {
      "needs_background": "light"
     },
     "output_type": "display_data"
    }
   ],
   "source": [
    "plt.figure(figsize=(12,8))\n",
    "plt.tight_layout(True)\n",
    "ax3=sns.lineplot(data=dfprodcontinenti, x= \"Year\", y= \"Tonnes\", hue= \"Continent\",markers=True, style= \"Continent\")"
   ]
  },
  {
   "cell_type": "code",
   "execution_count": 40,
   "metadata": {},
   "outputs": [
    {
     "data": {
      "image/png": "[encoded data removed]",
      "text/plain": [
       "<Figure size 864x576 with 1 Axes>"
      ]
     },
     "metadata": {
      "needs_background": "light"
     },
     "output_type": "display_data"
    }
   ],
   "source": [
    "plt.figure(figsize=(12,8))\n",
    "plt.tight_layout(True)\n",
    "ax4= sns.boxplot(data=dfprodcontinenti, x= \"Continent\", y= \"Tonnes\")"
   ]
  },
  {
   "cell_type": "code",
   "execution_count": 41,
   "metadata": {},
   "outputs": [
    {
     "data": {
      "text/plain": [
       "[Text(0, 0, 'Malawi'),\n",
       " Text(0, 0, 'Cuba'),\n",
       " Text(0, 0, 'Paraguay'),\n",
       " Text(0, 0, 'Czech Republic'),\n",
       " Text(0, 0, 'Austria'),\n",
       " Text(0, 0, 'India'),\n",
       " Text(0, 0, 'Argentina'),\n",
       " Text(0, 0, 'Italy'),\n",
       " Text(0, 0, 'Spain'),\n",
       " Text(0, 0, 'Canada'),\n",
       " Text(0, 0, 'France'),\n",
       " Text(0, 0, 'Germany'),\n",
       " Text(0, 0, 'Brazil'),\n",
       " Text(0, 0, 'United States')]"
      ]
     },
     "execution_count": 41,
     "metadata": {},
     "output_type": "execute_result"
    },
    {
     "data": {
      "image/png": "[encoded data removed]",
      "text/plain": [
       "<Figure size 864x576 with 1 Axes>"
      ]
     },
     "metadata": {
      "needs_background": "light"
     },
     "output_type": "display_data"
    }
   ],
   "source": [
    "plt.figure(figsize=(12,8))\n",
    "plt.tight_layout(True)\n",
    "ax6= sns.barplot(x=\"Country\", y =\"Tonnes\", data=dfprodtotale)\n",
    "ax6.set_xticklabels(ax6.get_xticklabels(), rotation=90, ha=\"right\")\n"
   ]
  },
  {
   "cell_type": "code",
   "execution_count": 42,
   "metadata": {},
   "outputs": [
    {
     "data": {
      "image/png": "[encoded data removed]",
      "text/plain": [
       "<Figure size 864x576 with 1 Axes>"
      ]
     },
     "metadata": {
      "needs_background": "light"
     },
     "output_type": "display_data"
    }
   ],
   "source": [
    "plt.figure(figsize=(12,8))\n",
    "plt.tight_layout(True)\n",
    "ax7= sns.barplot(x=\"Continent\", y =\"Tonnes\", data=dfprodtotalecontinenti)"
   ]
  },
  {
   "cell_type": "code",
   "execution_count": null,
   "metadata": {},
   "outputs": [],
   "source": [
    "# I hope you found this quick analysis informative, please keep in mind this is my first quick analysis project."
   ]
  }
 ],
 "metadata": {
  "kernelspec": {
   "display_name": "Python 3",
   "language": "python",
   "name": "python3"
  },
  "language_info": {
   "codemirror_mode": {
    "name": "ipython",
    "version": 3
   },
   "file_extension": ".py",
   "mimetype": "text/x-python",
   "name": "python",
   "nbconvert_exporter": "python",
   "pygments_lexer": "ipython3",
   "version": "3.8.3"
  }
 },
 "nbformat": 4,
 "nbformat_minor": 4
}
